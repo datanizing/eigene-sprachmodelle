{
 "cells": [
  {
   "cell_type": "markdown",
   "id": "b64ece1d-7558-4fb6-a98b-ad06283bb898",
   "metadata": {},
   "source": [
    "# Load data"
   ]
  },
  {
   "cell_type": "markdown",
   "id": "afa37856",
   "metadata": {},
   "source": [
    "Sätze extrahiert aus der UN-Generaldebatte 2022"
   ]
  },
  {
   "cell_type": "code",
   "execution_count": null,
   "id": "da81a054",
   "metadata": {},
   "outputs": [],
   "source": [
    "!test -f sentences.txt || wget https://github.com/datanizing/m3-llm-workshop/raw/main/sentences.txt"
   ]
  },
  {
   "cell_type": "code",
   "execution_count": null,
   "id": "532c4a6c-52d3-4436-9e45-b1e4f870baec",
   "metadata": {},
   "outputs": [],
   "source": [
    "sentences = open(\"sentences.txt\").read().split(\"@@@\")"
   ]
  },
  {
   "cell_type": "markdown",
   "id": "447ac753-3f5d-4eed-a51b-581c37856041",
   "metadata": {},
   "source": [
    "# Encode sentences"
   ]
  },
  {
   "cell_type": "code",
   "execution_count": null,
   "id": "9ca1b2b1-9072-4b60-b8c4-4130b8f8d6dd",
   "metadata": {},
   "outputs": [],
   "source": [
    "from sentence_transformers import SentenceTransformer\n",
    "model = SentenceTransformer('intfloat/e5-base-v2')"
   ]
  },
  {
   "cell_type": "code",
   "execution_count": null,
   "id": "b259f42b-9c45-4fee-b319-afcb37625ec4",
   "metadata": {},
   "outputs": [],
   "source": [
    "# can take a minute or two depending on CPU/GPU configuration\n",
    "sembeddings = model.encode([\"passage: \" + s for s in sentences], show_progress_bar=True)"
   ]
  },
  {
   "cell_type": "code",
   "execution_count": null,
   "id": "d6fb009d-7d0a-4332-a29d-68aea47e2f37",
   "metadata": {},
   "outputs": [],
   "source": [
    "import numpy as np\n",
    "with open(\"sentences-e5.npy\", \"wb\") as f:\n",
    "    np.save(f, sembeddings)"
   ]
  },
  {
   "cell_type": "code",
   "execution_count": null,
   "id": "53b8bfec-5b4b-44a1-a6ff-a7029d234c62",
   "metadata": {},
   "outputs": [],
   "source": [
    "sembeddings.shape"
   ]
  },
  {
   "cell_type": "code",
   "execution_count": null,
   "id": "a9baa068-3e5d-4618-9a2b-4af333d0db67",
   "metadata": {},
   "outputs": [],
   "source": [
    "model2 = SentenceTransformer('all-mpnet-base-v2')"
   ]
  },
  {
   "cell_type": "code",
   "execution_count": null,
   "id": "bd2eeae8-8eb7-4eb2-9bcc-9191459ede18",
   "metadata": {},
   "outputs": [],
   "source": [
    "# can take a minute or two depending on CPU/GPU configuration\n",
    "sembeddings2 = model2.encode(sentences, show_progress_bar=True)"
   ]
  },
  {
   "cell_type": "code",
   "execution_count": null,
   "id": "338ee160-3e09-43e5-9d46-387b5b37c256",
   "metadata": {},
   "outputs": [],
   "source": [
    "import numpy as np\n",
    "with open(\"sentences-mpnet.npy\", \"wb\") as f:\n",
    "    np.save(f, sembeddings2)"
   ]
  },
  {
   "cell_type": "markdown",
   "id": "4dddad02-fea3-40a0-b9b2-eb4ad04f910b",
   "metadata": {},
   "source": [
    "# Retrieval"
   ]
  },
  {
   "cell_type": "code",
   "execution_count": null,
   "id": "416ac725-97c8-4709-aad3-f36cac16a0c7",
   "metadata": {},
   "outputs": [],
   "source": [
    "def search(query, text, corpus_embeddings, model, top=20):\n",
    "    # code query to restrict search space\n",
    "    question_embedding = model.encode(query)\n",
    "    \n",
    "    # Determine similarity (vectors are normalized)\n",
    "    sim = np.dot(corpus_embeddings, question_embedding)\n",
    "    \n",
    "    # Get most similar top by sorting\n",
    "    hits = [ { \"text\": text[i], \"score\": sim[i] } \n",
    "                     for i in sim.argsort()[::-1][0:top] ]\n",
    "    \n",
    "    # Return as dataframe\n",
    "    return pd.DataFrame(hits)"
   ]
  },
  {
   "cell_type": "code",
   "execution_count": null,
   "id": "7b3a0f3f-6a10-406e-938c-ff7573787206",
   "metadata": {},
   "outputs": [],
   "source": [
    "import pandas as pd\n",
    "pd.set_option('display.max_colwidth', 0)"
   ]
  },
  {
   "cell_type": "code",
   "execution_count": null,
   "id": "31901804-2f16-4236-b6c2-7bffb1dc63cd",
   "metadata": {},
   "outputs": [],
   "source": [
    "search(\"query: Is the climate crisis worse for poorer countries?\", \n",
    "       sentences, sembeddings, model)"
   ]
  },
  {
   "cell_type": "code",
   "execution_count": null,
   "id": "ed14fc30-5640-4891-8ae1-defa57bf21a6",
   "metadata": {},
   "outputs": [],
   "source": [
    "search(\"query: Is the war on Ukraine caused by Russia?\", \n",
    "       sentences, sembeddings, model)"
   ]
  },
  {
   "cell_type": "code",
   "execution_count": null,
   "id": "457d9c8f-f013-4965-9232-b4ae20128b4a",
   "metadata": {},
   "outputs": [],
   "source": [
    "search(\"query: Is the climate crisis worse for poorer countries?\", \n",
    "       sentences, sembeddings2, model2)"
   ]
  },
  {
   "cell_type": "code",
   "execution_count": null,
   "id": "a28cfbcc-6e7f-4e6f-983d-2505bf7841f8",
   "metadata": {},
   "outputs": [],
   "source": [
    "search(\"Is the war on Ukraine caused by Russia?\", \n",
    "       sentences, sembeddings2, model2)"
   ]
  },
  {
   "cell_type": "code",
   "execution_count": null,
   "id": "e93888b2-8108-4d8a-a93b-0e17c171d776",
   "metadata": {},
   "outputs": [],
   "source": []
  }
 ],
 "metadata": {
  "kernelspec": {
   "display_name": "Python 3 (ipykernel)",
   "language": "python",
   "name": "python3"
  },
  "language_info": {
   "codemirror_mode": {
    "name": "ipython",
    "version": 3
   },
   "file_extension": ".py",
   "mimetype": "text/x-python",
   "name": "python",
   "nbconvert_exporter": "python",
   "pygments_lexer": "ipython3",
   "version": "3.10.12"
  }
 },
 "nbformat": 4,
 "nbformat_minor": 5
}
