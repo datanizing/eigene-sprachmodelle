{
 "cells": [
  {
   "cell_type": "markdown",
   "id": "b64ece1d-7558-4fb6-a98b-ad06283bb898",
   "metadata": {},
   "source": [
    "# Load data (from previous notebook)"
   ]
  },
  {
   "cell_type": "code",
   "execution_count": null,
   "id": "1c08c809-10c6-42aa-9a01-0477ca426b2f",
   "metadata": {},
   "outputs": [],
   "source": [
    "sentences = open(\"sentences.txt\").read().split(\"@@@\")"
   ]
  },
  {
   "cell_type": "code",
   "execution_count": null,
   "id": "73220da2-6d8f-42db-95ac-f361449388b5",
   "metadata": {},
   "outputs": [],
   "source": [
    "len(sentences)"
   ]
  },
  {
   "cell_type": "code",
   "execution_count": null,
   "id": "9d13cb7a-1325-4059-af8c-bbd026ce9a86",
   "metadata": {},
   "outputs": [],
   "source": [
    "import numpy as np\n",
    "with open(\"sentences.npy\", \"rb\") as f:\n",
    "    sembeddings = np.load(f)"
   ]
  },
  {
   "cell_type": "code",
   "execution_count": null,
   "id": "722d2dab-d44d-4a17-bf2c-12d518bc3af9",
   "metadata": {},
   "outputs": [],
   "source": [
    "with open(\"sentences2.npy\", \"rb\") as f:\n",
    "    sembeddings2 = np.load(f)"
   ]
  },
  {
   "cell_type": "markdown",
   "id": "c8a656b2-e292-47e4-8c91-066acbf77186",
   "metadata": {},
   "source": [
    "# Retrieval"
   ]
  },
  {
   "cell_type": "code",
   "execution_count": null,
   "id": "d690106a-8751-48c5-80b1-af6078a2a6ee",
   "metadata": {},
   "outputs": [],
   "source": [
    "import numpy as np\n",
    "import pandas as pd\n",
    "def search(query, text, corpus_embeddings, bi_encoder, cross_encoder, top_k=100):\n",
    "    # code query to restrict search space\n",
    "    question_embedding = bi_encoder.encode(query)\n",
    "    \n",
    "    # Determine similarity (vectors are normalized)\n",
    "    sim = np.dot(corpus_embeddings, question_embedding)\n",
    "    \n",
    "    # Get most similar top_k by sorting\n",
    "    hits = [ { \"text\": text[i], \"score\": sim[i] } \n",
    "                     for i in sim.argsort()[::-1][0:top_k] ]\n",
    "\n",
    "    # Consider only top hits for re-rankin\n",
    "    cross_input = [[query, hit[\"text\"]] for hit in hits]\n",
    "    # cross-encode (this takes most time)\n",
    "    cross_scores = cross_encoder.predict(cross_input)\n",
    "\n",
    "    # Integrate cross-scores in original hits (this would be easier with pandas)\n",
    "    for i in range(len(cross_scores)):\n",
    "        hits[i][\"cross-score\"] = cross_scores[i]\n",
    "\n",
    "    # nre-sort by cross-score, descending!\n",
    "    hits = sorted(hits, key=lambda x: x[\"cross-score\"], reverse=True)\n",
    "    \n",
    "    # Return top-20 results of re-ranker as dataframe\n",
    "    return pd.DataFrame(hits[0:20])"
   ]
  },
  {
   "cell_type": "code",
   "execution_count": null,
   "id": "9ca1b2b1-9072-4b60-b8c4-4130b8f8d6dd",
   "metadata": {},
   "outputs": [],
   "source": [
    "# bi-encoder is needed\n",
    "from sentence_transformers import SentenceTransformer\n",
    "model = SentenceTransformer('multi-qa-MiniLM-L6-cos-v1')"
   ]
  },
  {
   "cell_type": "code",
   "execution_count": null,
   "id": "9610b2aa-8922-44d5-96bd-9ac456a6848d",
   "metadata": {},
   "outputs": [],
   "source": [
    "model2 = SentenceTransformer('multi-qa-mpnet-base-dot-v1')"
   ]
  },
  {
   "cell_type": "code",
   "execution_count": null,
   "id": "35618b47-7f43-4255-9fb2-2206a0e357ff",
   "metadata": {},
   "outputs": [],
   "source": [
    "# cross encoder\n",
    "from sentence_transformers import CrossEncoder, util\n",
    "cross_encoder = CrossEncoder('cross-encoder/ms-marco-MiniLM-L-6-v2')"
   ]
  },
  {
   "cell_type": "code",
   "execution_count": null,
   "id": "7b3a0f3f-6a10-406e-938c-ff7573787206",
   "metadata": {},
   "outputs": [],
   "source": [
    "pd.set_option('display.max_colwidth', 0)"
   ]
  },
  {
   "cell_type": "code",
   "execution_count": null,
   "id": "ed14fc30-5640-4891-8ae1-defa57bf21a6",
   "metadata": {},
   "outputs": [],
   "source": [
    "search(\"The climate crisis is worse in poorer countries\", sentences, sembeddings, model, cross_encoder)"
   ]
  },
  {
   "cell_type": "code",
   "execution_count": null,
   "id": "c74a59a4-e0ad-4f2c-b90f-bc183adb34dc",
   "metadata": {},
   "outputs": [],
   "source": [
    "search(\"The climate crisis is worse in poorer countries\", sentences, sembeddings2, model2, cross_encoder)"
   ]
  },
  {
   "cell_type": "code",
   "execution_count": null,
   "id": "f989288e-c8fc-4645-9933-f2adc149e323",
   "metadata": {},
   "outputs": [],
   "source": []
  },
  {
   "cell_type": "code",
   "execution_count": null,
   "id": "2b7280ca-f4bd-4325-bd50-69e9cd4dcb72",
   "metadata": {},
   "outputs": [],
   "source": []
  },
  {
   "cell_type": "code",
   "execution_count": null,
   "id": "6982850f-4b40-443d-968b-3a61dfa9fdfd",
   "metadata": {},
   "outputs": [],
   "source": [
    "search(\"Which countries are impacted most by the climate crisis?\", sentences, sembeddings, model, cross_encoder)"
   ]
  },
  {
   "cell_type": "code",
   "execution_count": null,
   "id": "861624ea-2bc7-44d0-95c9-9ddee3f3958e",
   "metadata": {},
   "outputs": [],
   "source": [
    "scross_encoder = CrossEncoder(\"cross-encoder/qnli-electra-base\")"
   ]
  },
  {
   "cell_type": "code",
   "execution_count": null,
   "id": "93cca724-67de-4c94-b255-998398fef3f6",
   "metadata": {},
   "outputs": [],
   "source": [
    "search(\"Which countries are impacted most by the climate crisis?\", sentences, sembeddings, model, scross_encoder)"
   ]
  },
  {
   "cell_type": "code",
   "execution_count": null,
   "id": "d722386b-6444-4825-ad7e-d30029b72cf2",
   "metadata": {},
   "outputs": [],
   "source": [
    "search(\"Welche Länder sind am meisten von der Klimakrise betroffen?\", sentences, sembeddings, model, scross_encoder)"
   ]
  },
  {
   "cell_type": "code",
   "execution_count": null,
   "id": "9ccf094c-c70f-49c6-afac-e396bc91933a",
   "metadata": {},
   "outputs": [],
   "source": []
  }
 ],
 "metadata": {
  "kernelspec": {
   "display_name": "Python 3 (ipykernel)",
   "language": "python",
   "name": "python3"
  },
  "language_info": {
   "codemirror_mode": {
    "name": "ipython",
    "version": 3
   },
   "file_extension": ".py",
   "mimetype": "text/x-python",
   "name": "python",
   "nbconvert_exporter": "python",
   "pygments_lexer": "ipython3",
   "version": "3.8.10"
  }
 },
 "nbformat": 4,
 "nbformat_minor": 5
}
